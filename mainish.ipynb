{
 "cells": [
  {
   "cell_type": "code",
   "execution_count": 1,
   "metadata": {},
   "outputs": [],
   "source": [
    "import numpy as np\n",
    "import pandas as pd\n",
    "import cv2\n",
    "import seaborn as sns\n",
    "import matplotlib.pyplot as plt\n",
    "import setuptools.dist\n",
    "import torchvision.transforms as transforms\n",
    "\n",
    "from numpy import expand_dims\n",
    "from tensorflow.keras.preprocessing.image import load_img\n",
    "from tensorflow.keras.preprocessing.image import img_to_array\n",
    "from tensorflow.keras.preprocessing.image import ImageDataGenerator\n",
    "\n",
    "from torchvision.datasets import CIFAR10\n",
    "\n",
    "class ArtBench10(CIFAR10):\n",
    "\n",
    "    base_folder = \"artbench-10-batches-py\"\n",
    "    url = \"https://artbench.eecs.berkeley.edu/files/artbench-10-python.tar.gz\"\n",
    "    filename = \"artbench-10-python.tar.gz\"\n",
    "    tgz_md5 = \"9df1e998ee026aae36ec60ca7b44960e\"\n",
    "    train_list = [\n",
    "        [\"data_batch_1\", \"c2e02a78dcea81fe6fead5f1540e542f\"],\n",
    "        [\"data_batch_2\", \"1102a4dcf41d4dd63e20c10691193448\"],\n",
    "        [\"data_batch_3\", \"177fc43579af15ecc80eb506953ec26f\"],\n",
    "        [\"data_batch_4\", \"566b2a02ccfbafa026fbb2bcec856ff6\"],\n",
    "        [\"data_batch_5\", \"faa6a572469542010a1c8a2a9a7bf436\"],\n",
    "    ]\n",
    "\n",
    "    test_list = [\n",
    "        [\"test_batch\", \"fa44530c8b8158467e00899609c19e52\"],\n",
    "    ]\n",
    "    meta = {\n",
    "        \"filename\": \"meta\",\n",
    "        \"key\": \"styles\",\n",
    "        \"md5\": \"5bdcafa7398aa6b75d569baaec5cd4aa\",\n",
    "    }"
   ]
  },
  {
   "cell_type": "code",
   "execution_count": 32,
   "metadata": {},
   "outputs": [],
   "source": [
    "train_dataset = ArtBench10(root = \"./train_data\", train = True, download=True, transform=transforms.ToTensor())"
   ]
  },
  {
   "cell_type": "code",
   "execution_count": 26,
   "metadata": {},
   "outputs": [
    {
     "name": "stderr",
     "output_type": "stream",
     "text": [
      "100.0%\n"
     ]
    }
   ],
   "source": [
    "test_dataset = ArtBench10(root = \"./test_data\", train = False, download=True, transform=transforms.ToTensor())"
   ]
  },
  {
   "cell_type": "code",
   "execution_count": 7,
   "metadata": {},
   "outputs": [],
   "source": [
    "def unpickle(file):\n",
    "    import pickle\n",
    "    with open(file, 'rb') as fo:\n",
    "        dict = pickle.load(fo, encoding='bytes')\n",
    "    return dict"
   ]
  },
  {
   "cell_type": "code",
   "execution_count": 29,
   "metadata": {},
   "outputs": [],
   "source": [
    "# EXAMPLE\n",
    "output = unpickle(\"./train_data/artbench-10-batches-py/data_batch_1\")\n",
    "X_train1 = output['data']\n",
    "y_train1 = output['labels']"
   ]
  },
  {
   "cell_type": "code",
   "execution_count": null,
   "metadata": {},
   "outputs": [
    {
     "data": {
      "text/plain": [
       "((10000, 3072), 10000)"
      ]
     },
     "execution_count": 31,
     "metadata": {},
     "output_type": "execute_result"
    }
   ],
   "source": [
    "# EXAMPLE\n",
    "X_train1.shape, len(y_train1)"
   ]
  },
  {
   "cell_type": "code",
   "execution_count": null,
   "metadata": {},
   "outputs": [],
   "source": [
    "# TODO:\n",
    "# load each of the 5 batches (for loop)\n",
    "# use np.vstack to stack all the arrays from the batches (10000, 3072) x 5 -> (50000, 3072) to make X_train\n",
    "# same for y_train, X_test, y_test"
   ]
  },
  {
   "cell_type": "code",
   "execution_count": null,
   "metadata": {},
   "outputs": [],
   "source": [
    "# TODO:\n",
    "# check the shapes of the arrays after vstack\n",
    "# X_train.shape, len(y_train), X_test.shape, len(y_test) should be (50000, 3072), 50000, (10000, 3072), 10000"
   ]
  },
  {
   "cell_type": "code",
   "execution_count": null,
   "metadata": {},
   "outputs": [],
   "source": [
    "# [optional, consider going to Open Lab] TODO:\n",
    "# write out the arrays to a file\n",
    "# make a new ipynb which loads in those arrays"
   ]
  }
 ],
 "metadata": {
  "kernelspec": {
   "display_name": ".venv",
   "language": "python",
   "name": "python3"
  },
  "language_info": {
   "codemirror_mode": {
    "name": "ipython",
    "version": 3
   },
   "file_extension": ".py",
   "mimetype": "text/x-python",
   "name": "python",
   "nbconvert_exporter": "python",
   "pygments_lexer": "ipython3",
   "version": "3.13.1"
  }
 },
 "nbformat": 4,
 "nbformat_minor": 2
}
